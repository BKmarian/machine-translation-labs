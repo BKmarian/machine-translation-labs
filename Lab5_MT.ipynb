{
  "nbformat": 4,
  "nbformat_minor": 0,
  "metadata": {
    "colab": {
      "name": "Lab5_MT.ipynb",
      "provenance": [],
      "authorship_tag": "ABX9TyMf7X3Ud7dKq6eNaSU4RwFk",
      "include_colab_link": true
    },
    "kernelspec": {
      "name": "python3",
      "display_name": "Python 3"
    },
    "language_info": {
      "name": "python"
    }
  },
  "cells": [
    {
      "cell_type": "markdown",
      "metadata": {
        "id": "view-in-github",
        "colab_type": "text"
      },
      "source": [
        "<a href=\"https://colab.research.google.com/github/bucuram/machine-translation-labs/blob/main/Lab5_MT.ipynb\" target=\"_parent\"><img src=\"https://colab.research.google.com/assets/colab-badge.svg\" alt=\"Open In Colab\"/></a>"
      ]
    },
    {
      "cell_type": "markdown",
      "metadata": {
        "id": "3FgZzuL2LIwx"
      },
      "source": [
        "###IBM Model 1 "
      ]
    },
    {
      "cell_type": "markdown",
      "metadata": {
        "id": "Ekv1uOCD00qF"
      },
      "source": [
        "Read the [Word Alignment Slides](https://ufal.mff.cuni.cz/~bojar/courses/npfl087/1819/04-word-alignment-Koehn.pdf)  \n",
        "\n",
        "Watch the [video](http://mttalks.ufal.ms.mff.cuni.cz/index.php?title=Word_Alignment)"
      ]
    },
    {
      "cell_type": "markdown",
      "metadata": {
        "id": "jWHen3KA1mhA"
      },
      "source": [
        "The algorithm for IBM-1 looks at lexical translation probability. The goal is to fill in a matrix which says for each target word $w_{t}$ and source word $w_{s}$ what is the probability $P(w_{t}|w_{s})$. Once we have this dictionary, we can get the actual alignments by finding the most probable target word for each source word "
      ]
    },
    {
      "cell_type": "markdown",
      "metadata": {
        "id": "qnZkJtce9D0C"
      },
      "source": [
        "####IBM Model 1 and EM\n",
        "\n",
        "* Expectation-Step: apply current model parameters to the data\n",
        "– parts of the model are hidden (here: alignments)\n",
        "\n",
        "– using the model, assign probabilities to possible values\n",
        "\n",
        "* Maximization-Step: estimate new model parameters from the data\n",
        "\n",
        "– take assign values as fact\n",
        "\n",
        "– collect counts (weighted by probabilities)\n",
        "\n",
        "– estimate model from counts\n",
        "\n",
        "* Iterate these steps until convergence\n"
      ]
    },
    {
      "cell_type": "markdown",
      "metadata": {
        "id": "SnC_GBKcCMFR"
      },
      "source": [
        "####Example\n",
        "\n",
        "The corpus"
      ]
    },
    {
      "cell_type": "markdown",
      "metadata": {
        "id": "FifQ7iIfBwm0"
      },
      "source": [
        "![step1](https://i.imgur.com/qNFg66d.png)"
      ]
    },
    {
      "cell_type": "markdown",
      "metadata": {
        "id": "jkric-jXCmS8"
      },
      "source": [
        "**Maximization step**"
      ]
    },
    {
      "cell_type": "markdown",
      "metadata": {
        "id": "FdbzKyH6Cj-u"
      },
      "source": [
        "The dictionary"
      ]
    },
    {
      "cell_type": "markdown",
      "metadata": {
        "id": "nfwPuFfpCZhg"
      },
      "source": [
        "![step2](https://i.imgur.com/KH8tB7h.png)"
      ]
    },
    {
      "cell_type": "markdown",
      "metadata": {
        "id": "pyvDkO4JCqb-"
      },
      "source": [
        "**Expectation Step**"
      ]
    },
    {
      "cell_type": "markdown",
      "metadata": {
        "id": "lTwURBzhCuHc"
      },
      "source": [
        "![step3](https://i.imgur.com/lYYMdje.png)"
      ]
    },
    {
      "cell_type": "markdown",
      "metadata": {
        "id": "cAXnBsmNC9Zx"
      },
      "source": [
        "Normalization"
      ]
    },
    {
      "cell_type": "markdown",
      "metadata": {
        "id": "J7cFiBijC-_E"
      },
      "source": [
        "![step4](https://i.imgur.com/Y52bjZy.png)"
      ]
    },
    {
      "cell_type": "markdown",
      "metadata": {
        "id": "xRWUfOEaDKnA"
      },
      "source": [
        "Normalized probabilities"
      ]
    },
    {
      "cell_type": "markdown",
      "metadata": {
        "id": "9UMFcjunDYNo"
      },
      "source": [
        "![step5](https://i.imgur.com/ENgYL6m.png)"
      ]
    },
    {
      "cell_type": "markdown",
      "metadata": {
        "id": "jjMMAnrMDeH_"
      },
      "source": [
        "**Maximization step**"
      ]
    },
    {
      "cell_type": "markdown",
      "metadata": {
        "id": "tTtjJi4IDedz"
      },
      "source": [
        "![step6](https://i.imgur.com/aBHhzKc.png)"
      ]
    },
    {
      "cell_type": "markdown",
      "metadata": {
        "id": "Kj4NyGgiEBVP"
      },
      "source": [
        "Finally we have the translation probabilities"
      ]
    },
    {
      "cell_type": "markdown",
      "metadata": {
        "id": "_n4n1Y2nD-PG"
      },
      "source": [
        "![step6](https://i.imgur.com/DZ4aZmM.png)"
      ]
    },
    {
      "cell_type": "markdown",
      "metadata": {
        "id": "MHlEKJ6H-LRg"
      },
      "source": [
        "####Limitations\n",
        "\n",
        "- It has no notion of **word position** so it is happy to align two neighboring words in the source sentence to two completely different positions in the target.\n",
        "\n",
        "-  It also disregards how many alignment links lead to a particular word (it does not model the so-called word fertility), so in some cases, it can even align the whole source sentence to a single target-side word, leaving other target words unaligned."
      ]
    },
    {
      "cell_type": "markdown",
      "metadata": {
        "id": "zhDG_ogGE7M-"
      },
      "source": [
        "###Assignment\n",
        "\n",
        "- Apply the IBM model 1 to the romanian - aromanian corpus below\n",
        "\n",
        "- Extract the dictionary and evaluate the alignments (you may use the [Alignment Error Rate](https://www.nltk.org/howto/align.html))\n",
        "\n",
        "- Search for 10 examples of words that are misaligned and think about the solutions to overcome this wrong alignments\n",
        "\n",
        "- Use the IBM model to translate from the source corpus to the target corpus\n",
        "\n",
        "Upload the assignment until December 16th: https://forms.gle/1Q45azjwpKEV6jqz7\n"
      ]
    },
    {
      "cell_type": "code",
      "metadata": {
        "id": "Ds68WrL1G7rv"
      },
      "source": [
        "romanian_corpus = \"\"\"A fost - ce n-a mai fost.\n",
        "    A fost odată un lup, - Cumătrul-Nicola, şi-o vulpe, - Cumătra-Mara.\n",
        "    Ăştia doi s-au întovărăşit, să vâneze împreună, iar vânatul, şi-au zis, l-or împărţi frăţeşte.\n",
        "    Ieşind la vânat, dar, dau peste o oală cu miere.\n",
        "    - Aha!, se repezi Cumătru-Nicola, - o pap!\n",
        "    - Mai întâi şi mai întâi nu trebuie să spui: „o pap!“, ci „o păpăm“, i-a zis Cumătra-Mara. Apoi, nu te gândeşti, nici n-am dat bine de oală, şi gata: pe ea! Dacă vrei să facem casă laolaltă, află că n-o facem înghiţind orice agonisim...\n",
        "    - Fie, Mara, cum ştii tu.\n",
        "    - Da, cum ştiu eu! Să facem şi noi ca toată lumea. Acum, bunăoară, ascundem mierea şi din trei în trei zile mergem să mâncăm din ea.\n",
        "    Făcură cum zise Cumătra-Mara cea şireată: au pitit mierea sub un jneapăn.\n",
        "    Nu trece o zi şi iată că jupâneasa vulpe îi zice lupului:\n",
        "    - Jupân Nicola, mă cheamă cineva să-i botez!\n",
        "    - Dacă te cheamă, du-te!, zise lupul.\n",
        "    Se duse vulpea şi - lip-lip! - înghiţi mierea de deasupra, că aci venise, ăsta-i era botezul.\n",
        "    La întoarcere o întrebă lupul:\n",
        "    - Ce nume i-ai dat pruncului, Cumătră-Mara?\n",
        "    - Începutul! Cum era să-i zic altfel, primului băiat din casa omului?\n",
        "    - Frumos nume! Să-ţi trăiască! - mai grăi lupul.\n",
        "    A doua zi vulpea - iară:\n",
        "    - Cumetre-Nicola, iar mă cheamă să botez.\n",
        "    - Păi, du-te, dacă te cheamă!\n",
        "    Plecă vulpea şi - lip-lip!, a înjumătăţit oala de miere.\n",
        "    Când veni înapoi, lupul o întrebă din nou:\n",
        "    - Ăstuia ce nume-i dăduşi, Cumătră-Mara?\n",
        "    - Ăstuia-i zisei Jumăţică, fiindcă a fost fată de-astă dată.\n",
        "    Mai trece o zi, şi vulpea:\n",
        "    - Jupân Nicola, şi azi mă cheamă să botez!\n",
        "    Lupul-lup, cum să priceapă el că aci nu-i lucru curat? „Du-te!“. Aşa i-a zis.\n",
        "    Acuma vulpea a gătat toată mierea din oală!\n",
        "    Întorcându-se ea de-acolo, Cumătru-Nicola întreabă iar, curios:\n",
        "    - Ei, cum i-ai zis şi noului prunc?\n",
        "    - Gătatu’ îi zisei - făcu vulpea, care ştia că pusese bine toată mierea.\n",
        "    - Frumos nume, - să-ţi trăiască!, îi ură prostovanul de lup.\n",
        "    Tocmai trecuseră cele trei zile, şi-acu trebuia să meargă să guste din mierea pitită. Dar, ce să mai guste? Pietre? Că mierea o hăpăise toată jupâneasa vulpe.\n",
        "    - Cumetre-Nicola, Cumetre-Nicola, - ai păpat mierea singur, cum văd eu!, zise vulpea.\n",
        "    - Ba, să mă ierţi, Cumătră-Mara, grăi lupul, dar mi se pare că tu ai făcut trebuşoara asta minunată!\n",
        "    El, că tu, ea, că tu - s-au certat şi s-au despărţit.\n",
        "    Vulpea o porni spre sat, să-nhaţe vreo găină. Pe drum se întâlneşte cu un popă. Popa se înturna de la biserică, spre casă, cu măgarul încărcat de prescuri. Ea îl văzuse mai de departe şi se-ntinse lângă cărare, prefăcându-se moartă. Popa, zărind-o, o ia de picior şi-o azvârle pe măgar, deasupra prescurilor. „E bună îşi zise omul, de-o blană pentru preoteasa mea!“\n",
        "    Vulpea, în spate, dezleagă sacii şi aruncă prescurile una câte una, pe toate, în drum. Se dă apoi şi ea jos şi, din nou - una câte una - le culege pe toate şi, - pe-aci ţi-i drumul! Ajunge cu prescurile în pădure. Aci, iată-l şi pe Jupân-Nicola. Ăsta, uluit, întreabă:\n",
        "    - De unde, cumătră, de unde, Mara, o aşa pleaşcă?\n",
        "    - De unde să fie, Cumetre-Nicola? Păi, de la biserică!\n",
        "    - Dar cum de ţi le-au dat? Cum făcuşi?\n",
        "    - Cum făcui? Cum era să fac? Mă dusei lângă uşa bisericii şi-am început să-l toc pe popă: dă-mi, părinţele, o prescură! - dă-mi, părinţele, o prescură! Popa, ce putea face? Îmi dădu o desagă întreagă, în loc de o prescură!\n",
        "    - Atunci, merg şi eu. Mi-o da şi mie?\n",
        "    - Ba bine că nu! Cum să nu-ţi dea?!\n",
        "    Lupul nu-şi pierde vremea şi, iată-l - la biserică. Îşi vâră capul pe uşă şi se porneşte pe un urlet - lupesc, ce mai!:\n",
        "    - Dă-mi, părinte, o prescură! Dăăă-mi părinţele o prescură!\n",
        "    - Huooo, lupe! Huooo, lupe! - începe toată lumea să ţipe - de n-a mai ştiut lupul cum să se facă nevăzut de pe acolo.\n",
        "    Aşa, ajunse iar în pădure. Vulpea îi ieşi înainte şi-l întrebă cum s-a descurcat. Lupul îi povesti ce-a păţit şi cum erau să-l scarmene, dacă puneau mâna pe el.\n",
        "    - Dar, spune-mi, cum ai cerut?, îl mai întrebă vulpea.\n",
        "    - Păi, uite-aşa: Dăăă-mi, părinte, o prescură!\n",
        "    - Ei, de-aia nu-ţi dădu, Cumetre-Nicola. Trebuie cerut cu o voce mai scăzută, nu aşa - urlând! Subţire, încetişor, aşa se cere: „Dă-mi, părinţele, o prescură“.\n",
        "    Prostul de lup, care scăpase o dată cu viaţa, se lăsă dus de nas de vulpe, şi se mai duse o dată, să ceară acum... cu o voce mai scăzută. Numai că, nici nu apucă biet Cumătrul să-şi vâre bine capul pe uşă, şi lumea: Huooo, pe el! - cu câini, cu căţei, şi arde-l, şi arde-l cu parii, până îl omorâră!\n",
        "    Şi, cu asta, vulpea a scăpat de neisprăvitul de lup.\"\"\""
      ],
      "execution_count": 2,
      "outputs": []
    },
    {
      "cell_type": "code",
      "metadata": {
        "id": "xAWxzyh1HUvQ"
      },
      "source": [
        "aromanian_corpus = \"\"\"Eara ţe nu ş-eara.\n",
        "    Eara un lup, - Masturlu-Nicola, şi ună vulpe, - Chira-Mara.\n",
        "    Nîşi s-feaţiră soţ, se-avină deadun şi avinaticlu s-lu-mpartă frăţeşte.\n",
        "    Tu işirea avinare - aflară ună oală cu ñeare.\n",
        "    - Ha!, s-aurñi Masturlu-Nicola, - va u mîc!\n",
        "    - Năinte ş-năinte nu prinde s-dzîţ: „va u mîc“, ma: „va u mîcăm“, îl’i faţe Chira-Mara. Ş-apoia, nu dzîţ tine, ninga nu o-aflăm - şi, ai! - s-u mîcăm? Macă vrei casă s-adrăm, casa nu se-adară cu gîlpuirea a tut ţe s-aflăm...\n",
        "    - Cum ştii, Mară!\n",
        "    - Ţi să ştiu? Cum fac toată lumea, ş-noi: s-o-ascundem ñearea şi dit trei-trei dzîle, s-nă duţem s-mîcăm cîte puţînă.\n",
        "    Feaţiră cum gri Chira-Mara aţea şireata: o-ascumsiră ñearea tu un giuneapine.\n",
        "    Nu tricu nă dzuă şi - ia-ţ-u cumbara vulpe, iu-l’i dzîţe a lupului:\n",
        "    - Masture-Nicola, me-acl’imară s-pătedz!\n",
        "    - Macă te-acl’imară, du-te!, dzîse luplu.\n",
        "    Duse vulpea şi - glîp-glîp!, glîpui ñearea diprisupră, că aclo duse, aestu-l’i fu pătedzlu.\n",
        "    Cîndu s-turnă, u întribă luplu:\n",
        "    - Cum îl’i dzîsişi, Chiră-Mară?\n",
        "    - A părnitulu! Cum altă soe s-l’i dzîţ, - că eara protlu ficior în casă.\n",
        "    - Muşeată numă, s-ţă băneadză! - gri luplu.\n",
        "    Dzua alantă, ia-ţ-u vulpea, pale:\n",
        "    - Mastur-Nicola, me-acl’eamă s-pădetz, iară.\n",
        "    - Em, du-te macă te-acl’eamă!\n",
        "    Vulpea duse şi - glîp-glîp!, u-ngiumitică oala di ñeare.\n",
        "    Tu turnată u-ntribă nîpoi luplu:\n",
        "    - Ţi numă-l’i băgaşi, Chira-Mară?\n",
        "    - Ţi numă s-l’i băgam? Giumitică îl’i dzîş, că-şi fu feată aestă.\n",
        "    După nă dzuă, nîpoi, vulpea:\n",
        "    - Mastur-Nicola, ş-adz me-acl’imară s-pătedz!\n",
        "    Luplu-lup, iu si-l’i si ducă mintea lui că aoa nu cură lucru curat! „Du-te“, l’i-dzîse diznou.\n",
        "    Cari duse vulpea, nu ţ-alăsă ñeare tu oală!\n",
        "    Tu turnată, nîpoi u-ntribă Masturlu-Nicola:\n",
        "    - E, ţi numă-l’i băgaşi ş-a noului vleat?\n",
        "    - Biţită îl’i băgai numa!, dzîse vulpea - că ş-o-avea biţită tută ñarea.\n",
        "    - Muşeată numă, - s-ţă bîneadză! - îl’i urlă zdanganlu di lup.\n",
        "    Taman avea tricută treile dzîle, ş-aprindea să s-ducă s-mîcă di ñeare. Am, ţi s-mîcă, cheţre? Ñearea tută o-avea glîpuită mastorsa di vulpe.\n",
        "    - Mastur-Nicola, Mastur-Nicola, - u mîcaşi ñearea fără di mine, cumu s-veade!, dzîse vulpea.\n",
        "    - S-mi l’erţi, Chira-Mară, gri luplu - ma ñi si pare că tine u adraşi aestă muşuteaţă!\n",
        "    Ba, că tine, ba, că mine - si-ncăceară şi si-mpărţîră.\n",
        "    Vulpea lo calea cîtră-n hoară, s-anciupă vîră găl’ină. Aclo iu-şi imna, da di un preftu. Aestu s-turna, cu γumarlu încărcat di liturγii, di la bisearică. Nîsă-l vidzu, ma, di diparte, s-tease-n calea-l’i, ca psoahe, şi, preftul, cum u vidzu, cîndu tricu prin ningă vulpe, u lo di cicior ş-o-aruncă pri γumar. Bună-i, mindui omlu, tră guna ali priftease!\n",
        "    Vulpea, pri dinăpoi, dizleagă saţl’i ş-arucă liturγiile ună cîte ună, tute îm-pade. Dipune apoia şi iar, ună cîte ună, le-adună di-mpade şi - l’ea-l’i ciulica, s-poţ! Agiumse cu nîse tu pădure. Aoa, na-l şi Masturlu-Nicola. Aestu-l’i dtîţe, ciudusit:\n",
        "    - D-iu, cumbară, d-iu, Mară, cu pleaşca aestă?\n",
        "    - D-iu s-hibă, Masture-Nicola? Em, di la bisearică!\n",
        "    - Cum acşi, di ţî li deadiră? Cum feaţişi?\n",
        "    - Cum s-fac? Cum vreai s-fac?! Mi duş ningă uşa di bisearică şi acăţai: dă-ñi, prefte, nă liturγie! - dă-ñi, prefte, nă liturγie! Şi preftul, tră ună - îñi deade nă tisagă!\n",
        "    - S-mi duc ş-io, ñi-da ş-a-ñia?\n",
        "    - Avdzî, s-da? Va zbor, aestă?!\n",
        "    Nu amînă luplu şi na-l iu s-duţe la bisearică. Îşi bagă caplu tu uşă şi apărñeaşte s-aurlă ca vîr lup:\n",
        "    - Dă-ñi, prefte, nă liturγie! Dăăă-ñi, prefte, nă liturγie! \n",
        "    - Duuua, lupe! Duuua, lupe! - acăţară lumea si zghilească di tute părţîle, - că nu vidzu luplu cum fudzi de-acloţi.\n",
        "    Agiumse tu pădure. L’i-iase vulpea s-lu-aşteaptă şi s-lu-n-treabă, cum tricu? El aspuse ţi păţî ş-cum vrea-l’i frîngă chilunghea, s-lu băga tu mînă.\n",
        "    - Am, nu ti-ntreb - cum dzîţeai?, gri vulpea.\n",
        "    - Cum s-dzîc?: Dăăă-ñi, prefte, nă liturγie!\n",
        "    - De-aestă nu-ţ deadiră, Mastur-Nicola. Va dzîţeare cu boaţea ma minută, nu tu groasa! Aclo va si stridz dip aγalea: „Dă-ñi, prefte, nă liturγie!“.\n",
        "    Chirutlu di lup ascăpă nă oară nifrîmtu, şi s-lo după mintea ali vulpe, să s-ducă s-grească... cu boaţea minută. E, nu-apucă Masturlu si-şi bagă caplu tu uşe, şi: Duuuaaa! - pri nîs, cu cîñi, cu căţăl’i, şi-l cruiră, îl cruiră cu parlu, pînă-l vătămară!\n",
        "    Ş-cu aestă, ascăpă vulpea di pondul di lup.\"\"\""
      ],
      "execution_count": 4,
      "outputs": []
    },
    {
      "cell_type": "code",
      "metadata": {
        "id": "fAIBy0_JHbn7"
      },
      "source": [
        ""
      ],
      "execution_count": null,
      "outputs": []
    }
  ]
}